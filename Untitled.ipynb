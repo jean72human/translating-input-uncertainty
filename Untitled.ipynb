{
 "cells": [
  {
   "cell_type": "code",
   "execution_count": 1,
   "metadata": {},
   "outputs": [],
   "source": [
    "import numpy as np\n",
    "import torch\n",
    "import matplotlib.pyplot as plt\n",
    "import seaborn as sns\n",
    "sns.set_theme(style=\"whitegrid\")\n",
    "sns.set(rc={'figure.figsize':(15,15)})"
   ]
  },
  {
   "cell_type": "code",
   "execution_count": 22,
   "metadata": {},
   "outputs": [],
   "source": [
    "def f(theta,n,sigma,M,Y):\n",
    "    term1 = (n/2)*(torch.log(theta.T @ sigma @ theta))\n",
    "    term2 = (1/(2*theta.T @ sigma @ theta))\n",
    "    term3 = (M@theta - Y).T @ (M@theta - Y)\n",
    "    return term2 @ term3 + term1 \n",
    "    #return torch.inverse(theta.T @ sigma @ theta)\n",
    "\n",
    "def df(theta,n,sigma,M,Y):\n",
    "    denominator = theta.T @ sigma @ theta\n",
    "    numerator = n*sigma@theta + M.T@M@theta - M.T@Y - sigma@theta@(1/denominator)@(M@theta - Y).T @ (M@theta - Y)\n",
    "    return numerator/denominator\n",
    "\n",
    "def jf(theta,n,sigma,M,Y):\n",
    "    term1 = n/(theta.T @ sigma @ theta) * sigma\n",
    "    term2 = 2/(theta.T @ sigma @ theta)**2 * (n*sigma@theta + M.T@M - M.T@Y - ((M@theta - Y).T @ (M@theta - Y)/(theta.T @ sigma @ theta))@sigma@theta)@theta.T@sigma \n",
    "    term3 = 1/(theta.T @ sigma @ theta) * M.T@M - 2/(theta.T @ sigma @ theta)**2 * sigma@(M@theta).T @ M\n",
    "    term4 = 2/(theta.T @ sigma @ theta)**2 * sigma@theta@Y.T@M\n",
    "    term5 = (2*(M@theta - Y).T @ (M@theta - Y)/(theta.T @ sigma @ theta)**3) @ sigma@theta@theta.T@sigma\n",
    "    term6 = (((M@theta - Y).T @ (M@theta - Y))/(theta.T @ sigma @ theta)**2)@sigma\n",
    "    \n",
    "    return term1 - term2 + term3 - term4 - term5 + term6\n",
    "    \n",
    "    "
   ]
  },
  {
   "cell_type": "code",
   "execution_count": 23,
   "metadata": {},
   "outputs": [],
   "source": [
    "n = 1000\n",
    "d = 1"
   ]
  },
  {
   "cell_type": "code",
   "execution_count": 24,
   "metadata": {},
   "outputs": [
    {
     "name": "stdout",
     "output_type": "stream",
     "text": [
      "solution is tensor([[3.]])\n"
     ]
    }
   ],
   "source": [
    "M = torch.rand(n,d)\n",
    "std = 0.1\n",
    "sigma = torch.tensor([[std]], dtype=torch.float).unsqueeze(0).unsqueeze(0)\n",
    "sol = torch.tensor([[3]], dtype=torch.float)\n",
    "Y = M@sol + torch.normal(0, std, size=(n, 1))\n",
    "print(f\"solution is {sol}\")"
   ]
  },
  {
   "cell_type": "code",
   "execution_count": 25,
   "metadata": {},
   "outputs": [
    {
     "data": {
      "text/plain": [
       "tensor([[[[nan]]]])"
      ]
     },
     "execution_count": 25,
     "metadata": {},
     "output_type": "execute_result"
    }
   ],
   "source": [
    "df(torch.tensor([[0]], dtype=torch.float),n,sigma,M,Y)"
   ]
  },
  {
   "cell_type": "code",
   "execution_count": 32,
   "metadata": {},
   "outputs": [
    {
     "data": {
      "image/png": "[encoded data removed]",
      "text/plain": [
       "<Figure size 1080x1080 with 1 Axes>"
      ]
     },
     "metadata": {},
     "output_type": "display_data"
    }
   ],
   "source": [
    "vals = []\n",
    "dfs = []\n",
    "jfs = []\n",
    "logs = []\n",
    "for val in np.linspace(-40,-1):\n",
    "    theta = torch.tensor([[val]], dtype=torch.float, requires_grad=True) \n",
    "    \n",
    "    logP = f(theta,n,sigma,M,Y)\n",
    "    grad_logP = df(theta,n,sigma,M,Y)\n",
    "    grad_logP.backward()\n",
    "    #grad_logP.backward()\n",
    "    dtheta = theta.grad#jf(theta,n,sigma,M,Y)#\n",
    "    \n",
    "    jfs.append(dtheta.item())\n",
    "    logs.append(logP.item())\n",
    "    dfs.append(df(theta,n,sigma,M,Y).item())\n",
    "    vals.append(val)\n",
    "    #print()\n",
    "    \n",
    "plt.plot(vals,logs, label='- log P')\n",
    "#plt.plot(vals,dfs, label='grad')\n",
    "#plt.plot(vals,jfs, label='grad^2')\n",
    "plt.xlabel(\"theta\")\n",
    "plt.ylabel(\"gradient\")\n",
    "plt.legend()\n",
    "plt.show()"
   ]
  },
  {
   "cell_type": "code",
   "execution_count": 29,
   "metadata": {},
   "outputs": [
    {
     "data": {
      "text/plain": [
       "(tensor([[[[0.0500]]]], grad_fn=<MulBackward0>),\n",
       " tensor([[[[0.0500]]]], grad_fn=<MulBackward0>))"
      ]
     },
     "execution_count": 29,
     "metadata": {},
     "output_type": "execute_result"
    }
   ],
   "source": [
    "(1/2)*torch.inverse(theta.T @ sigma @ theta) , (1/2)*(1/(theta.T @ sigma @ theta))"
   ]
  },
  {
   "cell_type": "code",
   "execution_count": 2,
   "metadata": {},
   "outputs": [
    {
     "ename": "NameError",
     "evalue": "name 'theta' is not defined",
     "output_type": "error",
     "traceback": [
      "\u001b[0;31m---------------------------------------------------------------------------\u001b[0m",
      "\u001b[0;31mNameError\u001b[0m                                 Traceback (most recent call last)",
      "\u001b[0;32m<ipython-input-2-a8376ac50d08>\u001b[0m in \u001b[0;36m<module>\u001b[0;34m\u001b[0m\n\u001b[0;32m----> 1\u001b[0;31m \u001b[0;34m(\u001b[0m\u001b[0;36m1\u001b[0m\u001b[0;34m/\u001b[0m\u001b[0;36m2\u001b[0m\u001b[0;34m)\u001b[0m\u001b[0;34m*\u001b[0m\u001b[0mtorch\u001b[0m\u001b[0;34m.\u001b[0m\u001b[0minverse\u001b[0m\u001b[0;34m(\u001b[0m\u001b[0mtheta\u001b[0m\u001b[0;34m.\u001b[0m\u001b[0mT\u001b[0m \u001b[0;34m@\u001b[0m \u001b[0msigma\u001b[0m \u001b[0;34m@\u001b[0m \u001b[0mtheta\u001b[0m\u001b[0;34m)\u001b[0m \u001b[0;34m,\u001b[0m \u001b[0;34m(\u001b[0m\u001b[0;36m1\u001b[0m\u001b[0;34m/\u001b[0m\u001b[0;36m2\u001b[0m\u001b[0;34m)\u001b[0m\u001b[0;34m*\u001b[0m\u001b[0;34m(\u001b[0m\u001b[0;36m1\u001b[0m\u001b[0;34m/\u001b[0m\u001b[0;34m(\u001b[0m\u001b[0mtheta\u001b[0m\u001b[0;34m.\u001b[0m\u001b[0mT\u001b[0m \u001b[0;34m@\u001b[0m \u001b[0msigma\u001b[0m \u001b[0;34m@\u001b[0m \u001b[0mtheta\u001b[0m\u001b[0;34m)\u001b[0m\u001b[0;34m)\u001b[0m\u001b[0;34m\u001b[0m\u001b[0;34m\u001b[0m\u001b[0m\n\u001b[0m",
      "\u001b[0;31mNameError\u001b[0m: name 'theta' is not defined"
     ]
    }
   ],
   "source": [
    "(1/2)*torch.inverse(theta.T @ sigma @ theta) , (1/2)*(1/(theta.T @ sigma @ theta))"
   ]
  },
  {
   "cell_type": "code",
   "execution_count": 2,
   "metadata": {},
   "outputs": [
    {
     "ename": "NameError",
     "evalue": "name 'theta' is not defined",
     "output_type": "error",
     "traceback": [
      "\u001b[0;31m---------------------------------------------------------------------------\u001b[0m",
      "\u001b[0;31mNameError\u001b[0m                                 Traceback (most recent call last)",
      "\u001b[0;32m<ipython-input-2-a8376ac50d08>\u001b[0m in \u001b[0;36m<module>\u001b[0;34m\u001b[0m\n\u001b[0;32m----> 1\u001b[0;31m \u001b[0;34m(\u001b[0m\u001b[0;36m1\u001b[0m\u001b[0;34m/\u001b[0m\u001b[0;36m2\u001b[0m\u001b[0;34m)\u001b[0m\u001b[0;34m*\u001b[0m\u001b[0mtorch\u001b[0m\u001b[0;34m.\u001b[0m\u001b[0minverse\u001b[0m\u001b[0;34m(\u001b[0m\u001b[0mtheta\u001b[0m\u001b[0;34m.\u001b[0m\u001b[0mT\u001b[0m \u001b[0;34m@\u001b[0m \u001b[0msigma\u001b[0m \u001b[0;34m@\u001b[0m \u001b[0mtheta\u001b[0m\u001b[0;34m)\u001b[0m \u001b[0;34m,\u001b[0m \u001b[0;34m(\u001b[0m\u001b[0;36m1\u001b[0m\u001b[0;34m/\u001b[0m\u001b[0;36m2\u001b[0m\u001b[0;34m)\u001b[0m\u001b[0;34m*\u001b[0m\u001b[0;34m(\u001b[0m\u001b[0;36m1\u001b[0m\u001b[0;34m/\u001b[0m\u001b[0;34m(\u001b[0m\u001b[0mtheta\u001b[0m\u001b[0;34m.\u001b[0m\u001b[0mT\u001b[0m \u001b[0;34m@\u001b[0m \u001b[0msigma\u001b[0m \u001b[0;34m@\u001b[0m \u001b[0mtheta\u001b[0m\u001b[0;34m)\u001b[0m\u001b[0;34m)\u001b[0m\u001b[0;34m\u001b[0m\u001b[0;34m\u001b[0m\u001b[0m\n\u001b[0m",
      "\u001b[0;31mNameError\u001b[0m: name 'theta' is not defined"
     ]
    }
   ],
   "source": [
    "(1/2)*torch.inverse(theta.T @ sigma @ theta) , (1/2)*(1/(theta.T @ sigma @ theta))"
   ]
  },
  {
   "cell_type": "code",
   "execution_count": 2,
   "metadata": {},
   "outputs": [
    {
     "ename": "NameError",
     "evalue": "name 'theta' is not defined",
     "output_type": "error",
     "traceback": [
      "\u001b[0;31m---------------------------------------------------------------------------\u001b[0m",
      "\u001b[0;31mNameError\u001b[0m                                 Traceback (most recent call last)",
      "\u001b[0;32m<ipython-input-2-a8376ac50d08>\u001b[0m in \u001b[0;36m<module>\u001b[0;34m\u001b[0m\n\u001b[0;32m----> 1\u001b[0;31m \u001b[0;34m(\u001b[0m\u001b[0;36m1\u001b[0m\u001b[0;34m/\u001b[0m\u001b[0;36m2\u001b[0m\u001b[0;34m)\u001b[0m\u001b[0;34m*\u001b[0m\u001b[0mtorch\u001b[0m\u001b[0;34m.\u001b[0m\u001b[0minverse\u001b[0m\u001b[0;34m(\u001b[0m\u001b[0mtheta\u001b[0m\u001b[0;34m.\u001b[0m\u001b[0mT\u001b[0m \u001b[0;34m@\u001b[0m \u001b[0msigma\u001b[0m \u001b[0;34m@\u001b[0m \u001b[0mtheta\u001b[0m\u001b[0;34m)\u001b[0m \u001b[0;34m,\u001b[0m \u001b[0;34m(\u001b[0m\u001b[0;36m1\u001b[0m\u001b[0;34m/\u001b[0m\u001b[0;36m2\u001b[0m\u001b[0;34m)\u001b[0m\u001b[0;34m*\u001b[0m\u001b[0;34m(\u001b[0m\u001b[0;36m1\u001b[0m\u001b[0;34m/\u001b[0m\u001b[0;34m(\u001b[0m\u001b[0mtheta\u001b[0m\u001b[0;34m.\u001b[0m\u001b[0mT\u001b[0m \u001b[0;34m@\u001b[0m \u001b[0msigma\u001b[0m \u001b[0;34m@\u001b[0m \u001b[0mtheta\u001b[0m\u001b[0;34m)\u001b[0m\u001b[0;34m)\u001b[0m\u001b[0;34m\u001b[0m\u001b[0;34m\u001b[0m\u001b[0m\n\u001b[0m",
      "\u001b[0;31mNameError\u001b[0m: name 'theta' is not defined"
     ]
    }
   ],
   "source": [
    "(1/2)*torch.inverse(theta.T @ sigma @ theta) , (1/2)*(1/(theta.T @ sigma @ theta))"
   ]
  },
  {
   "cell_type": "code",
   "execution_count": 34,
   "metadata": {},
   "outputs": [
    {
     "data": {
      "text/plain": [
       "(3924.828125, -22.170969009399414, -0.2908642292022705)"
      ]
     },
     "execution_count": 34,
     "metadata": {},
     "output_type": "execute_result"
    }
   ],
   "source": [
    "min(logs),min(dfs),min(jfs)"
   ]
  },
  {
   "cell_type": "code",
   "execution_count": 11,
   "metadata": {},
   "outputs": [
    {
     "name": "stdout",
     "output_type": "stream",
     "text": [
      "6423741.5\n",
      "\n",
      "2329700.75\n",
      "\n",
      "21.595138549804688\n",
      "\n",
      "38.93941116333008\n",
      "\n",
      "80.91435241699219\n",
      "\n",
      "865.15576171875\n",
      "\n",
      "39.507118225097656\n",
      "\n",
      "76865416.0\n",
      "\n",
      "194970368.0\n",
      "\n",
      "300367.21875\n",
      "\n"
     ]
    }
   ],
   "source": [
    "for i in range(10):\n",
    "    theta = torch.rand(d,1, requires_grad=True) #.astype(np.float128)\n",
    "    t = torch.rand(d,1)\n",
    "    sigma = t@t.T #.astype(np.float128) #np.eye(d)\n",
    "    M = torch.rand(n,d) #.astype(np.float128)\n",
    "    Y = torch.rand(n,1) #.astype(np.float128) #np.ones((n,1))\n",
    "    #theta = torch.inverse(M.T @ M + n*sigma) @ (M.T @ Y)\n",
    "    #theta.requires_grad = True\n",
    "    \n",
    "    dlogP = df(theta,n,sigma,M,Y)\n",
    "    dlogP.backward()\n",
    "    dtheta = theta.grad\n",
    "    print(torch.norm(dtheta - jf(theta,n,sigma,M,Y),1).item()/d)\n",
    "    #print(dtheta)\n",
    "    #print(df(theta,n,sigma,M,Y))\n",
    "    #print(dtheta,\"\", df(theta,n,sigma,M,Y))\n",
    "    print()"
   ]
  },
  {
   "cell_type": "code",
   "execution_count": 12,
   "metadata": {},
   "outputs": [
    {
     "data": {
      "text/plain": [
       "tensor([[44791.3086]])"
      ]
     },
     "execution_count": 12,
     "metadata": {},
     "output_type": "execute_result"
    }
   ],
   "source": [
    "dtheta"
   ]
  },
  {
   "cell_type": "code",
   "execution_count": null,
   "metadata": {},
   "outputs": [],
   "source": []
  }
 ],
 "metadata": {
  "kernelspec": {
   "display_name": "Python 3",
   "language": "python",
   "name": "python3"
  },
  "language_info": {
   "codemirror_mode": {
    "name": "ipython",
    "version": 3
   },
   "file_extension": ".py",
   "mimetype": "text/x-python",
   "name": "python",
   "nbconvert_exporter": "python",
   "pygments_lexer": "ipython3",
   "version": "3.8.5"
  }
 },
 "nbformat": 4,
 "nbformat_minor": 4
}
